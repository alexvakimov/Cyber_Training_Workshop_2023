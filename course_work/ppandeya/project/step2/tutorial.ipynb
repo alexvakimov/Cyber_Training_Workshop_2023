{
 "cells": [
  {
   "cell_type": "markdown",
   "id": "f75a9a74",
   "metadata": {},
   "source": [
    "# Running the computation of the molecular orbital overlaps and time-overlaps using Libra/CP2K interface in DFT framework on HPCs \n",
    "\n",
    "In this tutorial, we will compute the molecular orbital (MO) overlaps and time-overlaps using the Libra/CP2K interface and Libint2 library. Detailed information are given in the [README.md](../README.md) and [../1_desktop/1_example_TiO2/tutorial.ipynb](../1_desktop/tutorial.ipynb) files. In this notebook, we will test it by using only one job and for the pre-computed MD trajectory obtained from the previous step in [here](../../../6_step1_cp2k).\n",
    "\n",
    "\n",
    "## Table of contents\n",
    "<a name=\"toc\"></a>\n",
    "1. [Importing needed libraries](#import)\n",
    "\n",
    "\n",
    "2. [Overview of required files](#required_files)\n",
    "\n",
    "\n",
    "3. [Distributing the jobs](#job_dist)\n",
    "\n",
    "\n",
    "### A. Learning objectives\n",
    "\n",
    "* To be able to run the molecular orbital overlap calculations on an HPC by distributing the calculations over multiple jobs \n",
    "\n",
    "### B. Use cases\n",
    "\n",
    "* [Distributing the jobs](#job_dist)\n",
    "\n",
    "\n",
    "### C. Functions\n",
    "\n",
    "- `libra_py`\n",
    "  - `CP2K_methods`\n",
    "    -  [`distribute_cp2k_libint_jobs`](#job_dist)\n",
    "  "
   ]
  },
  {
   "cell_type": "markdown",
   "id": "e3d5dd37",
   "metadata": {},
   "source": [
    "## 1. Importing needed libraries <a name=\"import\"></a>\n",
    "[Back to TOC](#toc)\n",
    "\n",
    "Import `CP2K_methods` module using the following commands:"
   ]
  },
  {
   "cell_type": "code",
   "execution_count": 1,
   "id": "bc9053b9",
   "metadata": {},
   "outputs": [
    {
     "name": "stderr",
     "output_type": "stream",
     "text": [
      "/projects/academic/cyberwksp21/Software/Conda/Miniconda3/envs/libra/lib/python3.6/importlib/_bootstrap.py:219: RuntimeWarning: to-Python converter for std::vector<std::vector<int, std::allocator<int> >, std::allocator<std::vector<int, std::allocator<int> > > > already registered; second conversion method ignored.\n",
      "  return f(*args, **kwds)\n",
      "/projects/academic/cyberwksp21/Software/Conda/Miniconda3/envs/libra/lib/python3.6/importlib/_bootstrap.py:219: RuntimeWarning: to-Python converter for boost::python::detail::container_element<std::vector<std::vector<int, std::allocator<int> >, std::allocator<std::vector<int, std::allocator<int> > > >, unsigned long, boost::python::detail::final_vector_derived_policies<std::vector<std::vector<int, std::allocator<int> >, std::allocator<std::vector<int, std::allocator<int> > > >, false> > already registered; second conversion method ignored.\n",
      "  return f(*args, **kwds)\n",
      "/projects/academic/cyberwksp21/Software/Conda/Miniconda3/envs/libra/lib/python3.6/importlib/_bootstrap.py:219: RuntimeWarning: to-Python converter for std::vector<std::vector<float, std::allocator<float> >, std::allocator<std::vector<float, std::allocator<float> > > > already registered; second conversion method ignored.\n",
      "  return f(*args, **kwds)\n",
      "/projects/academic/cyberwksp21/Software/Conda/Miniconda3/envs/libra/lib/python3.6/importlib/_bootstrap.py:219: RuntimeWarning: to-Python converter for boost::python::detail::container_element<std::vector<std::vector<float, std::allocator<float> >, std::allocator<std::vector<float, std::allocator<float> > > >, unsigned long, boost::python::detail::final_vector_derived_policies<std::vector<std::vector<float, std::allocator<float> >, std::allocator<std::vector<float, std::allocator<float> > > >, false> > already registered; second conversion method ignored.\n",
      "  return f(*args, **kwds)\n",
      "/projects/academic/cyberwksp21/Software/Conda/Miniconda3/envs/libra/lib/python3.6/importlib/_bootstrap.py:219: RuntimeWarning: to-Python converter for std::vector<std::vector<double, std::allocator<double> >, std::allocator<std::vector<double, std::allocator<double> > > > already registered; second conversion method ignored.\n",
      "  return f(*args, **kwds)\n",
      "/projects/academic/cyberwksp21/Software/Conda/Miniconda3/envs/libra/lib/python3.6/importlib/_bootstrap.py:219: RuntimeWarning: to-Python converter for boost::python::detail::container_element<std::vector<std::vector<double, std::allocator<double> >, std::allocator<std::vector<double, std::allocator<double> > > >, unsigned long, boost::python::detail::final_vector_derived_policies<std::vector<std::vector<double, std::allocator<double> >, std::allocator<std::vector<double, std::allocator<double> > > >, false> > already registered; second conversion method ignored.\n",
      "  return f(*args, **kwds)\n",
      "/projects/academic/cyberwksp21/Software/Conda/Miniconda3/envs/libra/lib/python3.6/importlib/_bootstrap.py:219: RuntimeWarning: to-Python converter for std::vector<std::vector<std::complex<double>, std::allocator<std::complex<double> > >, std::allocator<std::vector<std::complex<double>, std::allocator<std::complex<double> > > > > already registered; second conversion method ignored.\n",
      "  return f(*args, **kwds)\n",
      "/projects/academic/cyberwksp21/Software/Conda/Miniconda3/envs/libra/lib/python3.6/importlib/_bootstrap.py:219: RuntimeWarning: to-Python converter for boost::python::detail::container_element<std::vector<std::vector<std::complex<double>, std::allocator<std::complex<double> > >, std::allocator<std::vector<std::complex<double>, std::allocator<std::complex<double> > > > >, unsigned long, boost::python::detail::final_vector_derived_policies<std::vector<std::vector<std::complex<double>, std::allocator<std::complex<double> > >, std::allocator<std::vector<std::complex<double>, std::allocator<std::complex<double> > > > >, false> > already registered; second conversion method ignored.\n",
      "  return f(*args, **kwds)\n"
     ]
    }
   ],
   "source": [
    "import os\n",
    "import sys\n",
    "from libra_py import CP2K_methods"
   ]
  },
  {
   "cell_type": "markdown",
   "id": "8986f000",
   "metadata": {},
   "source": [
    "## 2. Overview of required files <a name=\"required_files\"></a>\n",
    "[Back to TOC](#toc)\n",
    "\n",
    "The following file is needed to run the calculatoins for computing the MO overlaps.\n",
    "\n",
    "* `es_diag_temp.inp`\n",
    "\n",
    "A sample CP2K input file to run the electronic structure calculations. This file can be a copy of the [MD input](../../../6_step1_cp2k/1_DFT/md.inp) but with `RUN_TYPE ENERGY` in the `&GLOBAL` section.\n",
    "\n",
    "* `run_template.py`\n",
    "\n",
    "A file that contains the data to run the MO overlap calculations. The details about this file is brought in the [README.md](../../../README.md) file. \n",
    "\n",
    "* `submit_template.slm`\n",
    "\n",
    "A sample file for submitting the job that runs `python run.py`. The `run.py` file is a copy of the `run_template.py` which has the initial and final step based on the number of jobs.\n",
    "\n",
    "* `../../../../6_step1_cp2k/1_DFT/1_example_TiO2/Rutile_TiO2_MD-pos-1.xyz`\n",
    "\n",
    "The MD trajectory `.xyz` file obtained from [step1](../../../../6_step1_cp2k/1_DFT/1_example_TiO2/tutorial.ipynb). CP2K stores the MD trajectory data in `*-pos-*.xyz` files.\n"
   ]
  },
  {
   "cell_type": "markdown",
   "id": "5c9da476",
   "metadata": {},
   "source": [
    "# 3. Computing the overlap calculations <a name=\"job_dist\"></a>\n",
    "[Back to TOC](#toc)\n",
    "\n",
    "To run the calculations you need to specify the initial and final step of the trajectory and the number of jobs. Libra will split the trajectory based on these values and will submit them by creating the specific folders for each job. The parameters in this file are as follows:\n",
    "\n",
    "`run_slurm`: If set to `True`, it will use the slurm environment to submit the jobs using the `submit_template` file. If it is set to `False`, it will run the calculations on the active session but multiple jobs will be run on the current active session. Therefore, if you run the calculations with `run_slurm = False`, set `njobs` to `1`.\n",
    "\n",
    "`istep`: The initial step of the trajectory.\n",
    "\n",
    "`fstep`: The final step of the trajectory.\n",
    "\n",
    "`njobs`: Number of jobs.\n",
    "\n",
    "`submission_exe`: The submission executable\n",
    "\n",
    "Then the function `CP2K_methods.distribute_cp2k_libint_jobs` will distribute and submit the jobs.\n",
    "\n"
   ]
  },
  {
   "cell_type": "code",
   "execution_count": 2,
   "id": "2ee7a5b3",
   "metadata": {},
   "outputs": [
    {
     "name": "stdout",
     "output_type": "stream",
     "text": [
      "Distributing jobs...\n",
      "Submitting job 1\n",
      "Job 0 istep 1200 fstep 1206 nsteps 6\n",
      "Submitted job 0\n",
      "Submitting job 2\n",
      "Job 1 istep 1205 fstep 1211 nsteps 6\n",
      "Submitted job 1\n",
      "Submitting job 3\n",
      "Job 2 istep 1210 fstep 1216 nsteps 6\n",
      "Submitted job 2\n",
      "Submitting job 4\n",
      "Job 3 istep 1215 fstep 1221 nsteps 6\n",
      "Submitted job 3\n",
      "Submitting job 5\n",
      "Job 4 istep 1220 fstep 1225 nsteps 5\n",
      "Submitted job 4\n"
     ]
    }
   ],
   "source": [
    "run_slurm = True\n",
    "submit_template = 'submit_template.slm'\n",
    "run_python_file = 'run_template.py'\n",
    "istep = 1200\n",
    "fstep = 1225\n",
    "njobs = 5\n",
    "submission_exe = 'sbatch'\n",
    "# Removing the previous folders if existed. You can keep them as well \n",
    "# but Libra will overwrite some of the data if their names are the same\n",
    "os.system('rm -rf res job* all_logfiles all_pdosfiles')\n",
    "\n",
    "print('Distributing jobs...')\n",
    "CP2K_methods.distribute_cp2k_libint_jobs(submit_template, run_python_file, istep, fstep, njobs, run_slurm, submission_exe)"
   ]
  },
  {
   "cell_type": "code",
   "execution_count": null,
   "id": "d6a419bb",
   "metadata": {},
   "outputs": [],
   "source": []
  }
 ],
 "metadata": {
  "kernelspec": {
   "display_name": "Python 3.6 (libra-latest)",
   "language": "python",
   "name": "libra-plus"
  },
  "language_info": {
   "codemirror_mode": {
    "name": "ipython",
    "version": 3
   },
   "file_extension": ".py",
   "mimetype": "text/x-python",
   "name": "python",
   "nbconvert_exporter": "python",
   "pygments_lexer": "ipython3",
   "version": "3.6.13"
  }
 },
 "nbformat": 4,
 "nbformat_minor": 5
}
