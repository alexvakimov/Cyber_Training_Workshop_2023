{
 "cells": [
  {
   "cell_type": "markdown",
   "id": "964de90c",
   "metadata": {},
   "source": [
    "# Computing MO overlap matrix in ORCA and OpenMolcas\n",
    "\n",
    "\n",
    "Computation of the MO time-overlaps is an important component in nonadiabatic dynamics. For computing the MO overlap integrals, usually a \"double-molecule\" approach is adopted which is done by requesting the quantum chemistry package to compute the AO overlap matrix for two nearby geometries in the MD trajectory. This procedure is used by different nonadiabatic dynamics codes such as SHARC, Newton-X, and pyUnixMD. \n",
    "\n",
    "Some other codes such as Libra and nano-qmflows can compute the overlap integrals using an analytical approach by explicitly computing the AO overlap matrix using Libint code which is an OpenMP parallelized code for computing different types of integrals in Gaussian-type orbital basis. Although both packages use Libint but the programming details are quite different. While nano-qmflows can perform the calculation only for non-periodic systems in DFT framework, Libra extends the calculations for periodic systems and in different approaches such as extended tight-binding.\n",
    "\n",
    "Libra uses `molden` file format for computing the overlap matrices. In this notebook, I will show the capability of the Libra functions for computing the overlap using the `molden` files produced by ORCA and OpenMolcas. This interface will be generalized for time-overlaps and CI overlaps.\n",
    "\n",
    "## 1. ORCA\n",
    "\n",
    "I have generated a `molden` file format, `orca_molden.molden`, for a CH4 molecule using ORCA. Using the same procedure as was shown in "
   ]
  },
  {
   "cell_type": "code",
   "execution_count": 1,
   "id": "36342328",
   "metadata": {},
   "outputs": [
    {
     "name": "stderr",
     "output_type": "stream",
     "text": [
      "/projects/academic/alexeyak/mohammad/software/miniconda3/envs/libra/lib/python3.6/importlib/_bootstrap.py:219: RuntimeWarning: to-Python converter for std::vector<std::vector<int, std::allocator<int> >, std::allocator<std::vector<int, std::allocator<int> > > > already registered; second conversion method ignored.\n",
      "  return f(*args, **kwds)\n",
      "/projects/academic/alexeyak/mohammad/software/miniconda3/envs/libra/lib/python3.6/importlib/_bootstrap.py:219: RuntimeWarning: to-Python converter for boost::python::detail::container_element<std::vector<std::vector<int, std::allocator<int> >, std::allocator<std::vector<int, std::allocator<int> > > >, unsigned long, boost::python::detail::final_vector_derived_policies<std::vector<std::vector<int, std::allocator<int> >, std::allocator<std::vector<int, std::allocator<int> > > >, false> > already registered; second conversion method ignored.\n",
      "  return f(*args, **kwds)\n",
      "/projects/academic/alexeyak/mohammad/software/miniconda3/envs/libra/lib/python3.6/importlib/_bootstrap.py:219: RuntimeWarning: to-Python converter for std::vector<std::vector<float, std::allocator<float> >, std::allocator<std::vector<float, std::allocator<float> > > > already registered; second conversion method ignored.\n",
      "  return f(*args, **kwds)\n",
      "/projects/academic/alexeyak/mohammad/software/miniconda3/envs/libra/lib/python3.6/importlib/_bootstrap.py:219: RuntimeWarning: to-Python converter for boost::python::detail::container_element<std::vector<std::vector<float, std::allocator<float> >, std::allocator<std::vector<float, std::allocator<float> > > >, unsigned long, boost::python::detail::final_vector_derived_policies<std::vector<std::vector<float, std::allocator<float> >, std::allocator<std::vector<float, std::allocator<float> > > >, false> > already registered; second conversion method ignored.\n",
      "  return f(*args, **kwds)\n",
      "/projects/academic/alexeyak/mohammad/software/miniconda3/envs/libra/lib/python3.6/importlib/_bootstrap.py:219: RuntimeWarning: to-Python converter for std::vector<std::vector<double, std::allocator<double> >, std::allocator<std::vector<double, std::allocator<double> > > > already registered; second conversion method ignored.\n",
      "  return f(*args, **kwds)\n",
      "/projects/academic/alexeyak/mohammad/software/miniconda3/envs/libra/lib/python3.6/importlib/_bootstrap.py:219: RuntimeWarning: to-Python converter for boost::python::detail::container_element<std::vector<std::vector<double, std::allocator<double> >, std::allocator<std::vector<double, std::allocator<double> > > >, unsigned long, boost::python::detail::final_vector_derived_policies<std::vector<std::vector<double, std::allocator<double> >, std::allocator<std::vector<double, std::allocator<double> > > >, false> > already registered; second conversion method ignored.\n",
      "  return f(*args, **kwds)\n",
      "/projects/academic/alexeyak/mohammad/software/miniconda3/envs/libra/lib/python3.6/importlib/_bootstrap.py:219: RuntimeWarning: to-Python converter for std::vector<std::vector<std::complex<double>, std::allocator<std::complex<double> > >, std::allocator<std::vector<std::complex<double>, std::allocator<std::complex<double> > > > > already registered; second conversion method ignored.\n",
      "  return f(*args, **kwds)\n",
      "/projects/academic/alexeyak/mohammad/software/miniconda3/envs/libra/lib/python3.6/importlib/_bootstrap.py:219: RuntimeWarning: to-Python converter for boost::python::detail::container_element<std::vector<std::vector<std::complex<double>, std::allocator<std::complex<double> > >, std::allocator<std::vector<std::complex<double>, std::allocator<std::complex<double> > > > >, unsigned long, boost::python::detail::final_vector_derived_policies<std::vector<std::vector<std::complex<double>, std::allocator<std::complex<double> > >, std::allocator<std::vector<std::complex<double>, std::allocator<std::complex<double> > > > >, false> > already registered; second conversion method ignored.\n",
      "  return f(*args, **kwds)\n"
     ]
    }
   ],
   "source": [
    "import numpy as np\n",
    "from liblibra_core import *\n",
    "from libra_py import CP2K_methods, data_conv, molden_methods, orca_methods"
   ]
  },
  {
   "cell_type": "markdown",
   "id": "5d26777b",
   "metadata": {},
   "source": [
    "### Creating the integration shell and generating the eigenvectors"
   ]
  },
  {
   "cell_type": "code",
   "execution_count": 2,
   "id": "cc2e6662",
   "metadata": {},
   "outputs": [],
   "source": [
    "shell_1, l_vals = molden_methods.molden_file_to_libint_shell('orca_molden.molden', True, True, np.array([[0,0,0],[0,0,0],[0,0,0]]), np.array([0,0,0]))\n",
    "eig_vect_1, energies_1 = molden_methods.eigenvectors_molden('orca_molden.molden', nbasis(shell_1), l_vals)"
   ]
  },
  {
   "cell_type": "markdown",
   "id": "1fe4d482",
   "metadata": {},
   "source": [
    "### Computing the AO overlap matrix"
   ]
  },
  {
   "cell_type": "code",
   "execution_count": 3,
   "id": "173cff08",
   "metadata": {},
   "outputs": [],
   "source": [
    "AO_S = compute_overlaps(shell_1, shell_1, 12)\n",
    "AO_S = data_conv.MATRIX2nparray(AO_S)"
   ]
  },
  {
   "cell_type": "markdown",
   "id": "89c1a7a2",
   "metadata": {},
   "source": [
    "### Sorting the eigenvectors\n",
    "\n",
    "The ordering of the angular momentum in ORCA should be changed based on the how Libra computes the integral. The ordering in ORCA is `pz, px, py, dz2, dxz, dyz, dx2y2, dxy` while the ordering in Libra/Libint is `px, py, pz, dyz, dx2y2, dxz, dxy, dz2`."
   ]
  },
  {
   "cell_type": "code",
   "execution_count": 4,
   "id": "5e5572b7",
   "metadata": {},
   "outputs": [
    {
     "name": "stdout",
     "output_type": "stream",
     "text": [
      "[2, 3, 1] [3, 4, 2, 5, 1]\n"
     ]
    }
   ],
   "source": [
    "p_perm = [2,3,1]\n",
    "d_perm = [3, 4, 2, 5, 1]\n",
    "\n",
    "new_indices = orca_methods.resort_molog_eigenvectors(l_vals, list(p_perm), list(d_perm))\n",
    "eigenvectors_1 = []\n",
    "for j in range(len(eig_vect_1)):\n",
    "    eigenvector_1 = eig_vect_1[j]\n",
    "    eigenvector_1 = eigenvector_1[new_indices]\n",
    "    eigenvectors_1.append(eigenvector_1)\n",
    "\n",
    "eigenvectors_1 = np.array(eigenvectors_1)"
   ]
  },
  {
   "cell_type": "markdown",
   "id": "857b54d5",
   "metadata": {},
   "source": [
    "### Computing the MO overlap matrix\n",
    "\n",
    "To validate the results of the overlap calculations, we print the diagonal elements of the MO overlap matrix and check they show normalized eigenvectors."
   ]
  },
  {
   "cell_type": "code",
   "execution_count": 5,
   "id": "8d87a692",
   "metadata": {},
   "outputs": [
    {
     "name": "stdout",
     "output_type": "stream",
     "text": [
      "Diagonal elements of S matrix for ORCA!!!! \n",
      "[1.+0.j 1.+0.j 1.+0.j 1.+0.j 1.+0.j 1.+0.j 1.+0.j 1.+0.j 1.+0.j 1.+0.j\n",
      " 1.+0.j 1.+0.j 1.+0.j 1.+0.j 1.+0.j 1.+0.j 1.+0.j 1.+0.j 1.+0.j 1.+0.j\n",
      " 1.+0.j 1.+0.j 1.+0.j 1.+0.j 1.+0.j 1.+0.j 1.+0.j 1.+0.j 1.+0.j 1.+0.j\n",
      " 1.+0.j 1.+0.j 1.+0.j 1.+0.j]\n"
     ]
    }
   ],
   "source": [
    "S = np.linalg.multi_dot([eigenvectors_1, AO_S, eigenvectors_1.T])\n",
    "print('Diagonal elements of S matrix for ORCA!!!! ')\n",
    "print(np.diag(S))"
   ]
  },
  {
   "cell_type": "markdown",
   "id": "3766664a",
   "metadata": {},
   "source": [
    "## 2. OpenMolcas\n",
    "\n",
    "I use the same procedure as above but this time for a `molden` file format generated by OpenMolcas - I borrowed one of the `molden` files produced by Prof. Sebastian Mai in `/projects/academic/cyberwksp21/Students/smai/molcas_tests/MOLCAS.guessorb.molden`.\n",
    "\n",
    "The rest of the procedure is as the same as in ORCA with the difference that the ordering of the eigenvectors in OpenMolcas is the same as in CP2K."
   ]
  },
  {
   "cell_type": "code",
   "execution_count": 6,
   "id": "9e0a122d",
   "metadata": {},
   "outputs": [
    {
     "name": "stdout",
     "output_type": "stream",
     "text": [
      "Diagonal elements of S matrix for OpenMolcas!!!! \n",
      "[1.00000001+0.j 1.00000001+0.j 1.        +0.j 1.        +0.j\n",
      " 0.99999999+0.j 0.99999999+0.j 1.00000001+0.j 1.00000001+0.j\n",
      " 1.        +0.j 1.00000001+0.j 1.        +0.j 1.        +0.j\n",
      " 1.00000001+0.j 0.99999998+0.j 1.00000001+0.j 1.        +0.j\n",
      " 1.        +0.j 1.        +0.j 1.        +0.j 1.        +0.j\n",
      " 1.        +0.j 0.99999999+0.j 1.        +0.j 1.00000001+0.j\n",
      " 1.        +0.j 1.        +0.j 1.        +0.j 1.        +0.j\n",
      " 1.00000001+0.j 1.        +0.j 1.        +0.j 1.        +0.j\n",
      " 1.        +0.j 1.00000001+0.j 1.00000001+0.j 1.        +0.j\n",
      " 0.99999999+0.j 1.        +0.j 1.00000001+0.j 1.00000001+0.j\n",
      " 1.        +0.j 1.        +0.j 1.        +0.j 1.        +0.j\n",
      " 1.        +0.j 1.        +0.j]\n"
     ]
    }
   ],
   "source": [
    "shell_1, l_vals = molden_methods.molden_file_to_libint_shell('MOLCAS.guessorb.molden', True)\n",
    "eig_vect_1, energies_1 = molden_methods.eigenvectors_molden('MOLCAS.guessorb.molden', nbasis(shell_1), l_vals)\n",
    "\n",
    "AO_S = compute_overlaps(shell_1, shell_1, 12)\n",
    "AO_S = data_conv.MATRIX2nparray(AO_S)\n",
    "\n",
    "new_indices = CP2K_methods.resort_molog_eigenvectors(l_vals)\n",
    "eigenvectors_1 = []\n",
    "for j in range(len(eig_vect_1)):\n",
    "    eigenvector_1 = eig_vect_1[j]\n",
    "    eigenvector_1 = eigenvector_1[new_indices]\n",
    "    eigenvectors_1.append(eigenvector_1)\n",
    "eigenvectors_1 = np.array(eigenvectors_1)\n",
    "\n",
    "S = np.linalg.multi_dot([eigenvectors_1, AO_S, eigenvectors_1.T])\n",
    "\n",
    "print('Diagonal elements of S matrix for OpenMolcas!!!! ')\n",
    "print(np.diag(S))\n"
   ]
  },
  {
   "cell_type": "code",
   "execution_count": null,
   "id": "028501a9",
   "metadata": {},
   "outputs": [],
   "source": []
  },
  {
   "cell_type": "code",
   "execution_count": null,
   "id": "30de2bd5",
   "metadata": {},
   "outputs": [],
   "source": []
  }
 ],
 "metadata": {
  "kernelspec": {
   "display_name": "Python 3",
   "language": "python",
   "name": "python3"
  },
  "language_info": {
   "codemirror_mode": {
    "name": "ipython",
    "version": 3
   },
   "file_extension": ".py",
   "mimetype": "text/x-python",
   "name": "python",
   "nbconvert_exporter": "python",
   "pygments_lexer": "ipython3",
   "version": "3.6.13"
  }
 },
 "nbformat": 4,
 "nbformat_minor": 5
}
